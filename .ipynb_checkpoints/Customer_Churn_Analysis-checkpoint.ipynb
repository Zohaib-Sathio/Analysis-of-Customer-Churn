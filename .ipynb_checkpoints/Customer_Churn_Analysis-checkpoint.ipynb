{
 "cells": [
  {
   "cell_type": "markdown",
   "id": "4986a3e9",
   "metadata": {},
   "source": [
    "# Analysis and Prediction of Customer Churn in the Credit Card Industry"
   ]
  },
  {
   "cell_type": "code",
   "execution_count": 29,
   "id": "6a6797e9",
   "metadata": {},
   "outputs": [],
   "source": [
    "import pandas as pd\n",
    "\n",
    "# Load the dataset\n",
    "data = pd.read_csv(\"datasets/customer_churn.csv\")"
   ]
  },
  {
   "cell_type": "code",
   "execution_count": 30,
   "id": "e3f50d96",
   "metadata": {},
   "outputs": [
    {
     "data": {
      "text/html": [
       "<div>\n",
       "<style scoped>\n",
       "    .dataframe tbody tr th:only-of-type {\n",
       "        vertical-align: middle;\n",
       "    }\n",
       "\n",
       "    .dataframe tbody tr th {\n",
       "        vertical-align: top;\n",
       "    }\n",
       "\n",
       "    .dataframe thead th {\n",
       "        text-align: right;\n",
       "    }\n",
       "</style>\n",
       "<table border=\"1\" class=\"dataframe\">\n",
       "  <thead>\n",
       "    <tr style=\"text-align: right;\">\n",
       "      <th></th>\n",
       "      <th>client_num</th>\n",
       "      <th>attrition_flag</th>\n",
       "      <th>customer_age</th>\n",
       "      <th>gender</th>\n",
       "      <th>dependent_count</th>\n",
       "      <th>education_level</th>\n",
       "      <th>marital_status</th>\n",
       "      <th>income_category</th>\n",
       "      <th>card_category</th>\n",
       "      <th>months_on_book</th>\n",
       "      <th>...</th>\n",
       "      <th>months_inactive_12_mon</th>\n",
       "      <th>contacts_count_12_mon</th>\n",
       "      <th>credit_limit</th>\n",
       "      <th>total_revolving_bal</th>\n",
       "      <th>avg_open_to_buy</th>\n",
       "      <th>total_amt_chng_q4_q1</th>\n",
       "      <th>total_trans_amt</th>\n",
       "      <th>total_trans_ct</th>\n",
       "      <th>total_ct_chng_q4_q1</th>\n",
       "      <th>avg_utilization_ratio</th>\n",
       "    </tr>\n",
       "  </thead>\n",
       "  <tbody>\n",
       "    <tr>\n",
       "      <th>0</th>\n",
       "      <td>768805383</td>\n",
       "      <td>Existing Customer</td>\n",
       "      <td>45</td>\n",
       "      <td>M</td>\n",
       "      <td>3</td>\n",
       "      <td>High School</td>\n",
       "      <td>Married</td>\n",
       "      <td>$60K - $80K</td>\n",
       "      <td>Blue</td>\n",
       "      <td>39</td>\n",
       "      <td>...</td>\n",
       "      <td>1</td>\n",
       "      <td>3</td>\n",
       "      <td>12691.0</td>\n",
       "      <td>777</td>\n",
       "      <td>11914.0</td>\n",
       "      <td>1.335</td>\n",
       "      <td>1144</td>\n",
       "      <td>42</td>\n",
       "      <td>1.625</td>\n",
       "      <td>0.061</td>\n",
       "    </tr>\n",
       "    <tr>\n",
       "      <th>1</th>\n",
       "      <td>818770008</td>\n",
       "      <td>Existing Customer</td>\n",
       "      <td>49</td>\n",
       "      <td>F</td>\n",
       "      <td>5</td>\n",
       "      <td>Graduate</td>\n",
       "      <td>Single</td>\n",
       "      <td>Less than $40K</td>\n",
       "      <td>Blue</td>\n",
       "      <td>44</td>\n",
       "      <td>...</td>\n",
       "      <td>1</td>\n",
       "      <td>2</td>\n",
       "      <td>8256.0</td>\n",
       "      <td>864</td>\n",
       "      <td>7392.0</td>\n",
       "      <td>1.541</td>\n",
       "      <td>1291</td>\n",
       "      <td>33</td>\n",
       "      <td>3.714</td>\n",
       "      <td>0.105</td>\n",
       "    </tr>\n",
       "    <tr>\n",
       "      <th>2</th>\n",
       "      <td>713982108</td>\n",
       "      <td>Existing Customer</td>\n",
       "      <td>51</td>\n",
       "      <td>M</td>\n",
       "      <td>3</td>\n",
       "      <td>Graduate</td>\n",
       "      <td>Married</td>\n",
       "      <td>$80K - $120K</td>\n",
       "      <td>Blue</td>\n",
       "      <td>36</td>\n",
       "      <td>...</td>\n",
       "      <td>1</td>\n",
       "      <td>0</td>\n",
       "      <td>3418.0</td>\n",
       "      <td>0</td>\n",
       "      <td>3418.0</td>\n",
       "      <td>2.594</td>\n",
       "      <td>1887</td>\n",
       "      <td>20</td>\n",
       "      <td>2.333</td>\n",
       "      <td>0.000</td>\n",
       "    </tr>\n",
       "    <tr>\n",
       "      <th>3</th>\n",
       "      <td>769911858</td>\n",
       "      <td>Existing Customer</td>\n",
       "      <td>40</td>\n",
       "      <td>F</td>\n",
       "      <td>4</td>\n",
       "      <td>High School</td>\n",
       "      <td>Unknown</td>\n",
       "      <td>Less than $40K</td>\n",
       "      <td>Blue</td>\n",
       "      <td>34</td>\n",
       "      <td>...</td>\n",
       "      <td>4</td>\n",
       "      <td>1</td>\n",
       "      <td>3313.0</td>\n",
       "      <td>2517</td>\n",
       "      <td>796.0</td>\n",
       "      <td>1.405</td>\n",
       "      <td>1171</td>\n",
       "      <td>20</td>\n",
       "      <td>2.333</td>\n",
       "      <td>0.760</td>\n",
       "    </tr>\n",
       "    <tr>\n",
       "      <th>4</th>\n",
       "      <td>709106358</td>\n",
       "      <td>Existing Customer</td>\n",
       "      <td>40</td>\n",
       "      <td>M</td>\n",
       "      <td>3</td>\n",
       "      <td>Uneducated</td>\n",
       "      <td>Married</td>\n",
       "      <td>$60K - $80K</td>\n",
       "      <td>Blue</td>\n",
       "      <td>21</td>\n",
       "      <td>...</td>\n",
       "      <td>1</td>\n",
       "      <td>0</td>\n",
       "      <td>4716.0</td>\n",
       "      <td>0</td>\n",
       "      <td>4716.0</td>\n",
       "      <td>2.175</td>\n",
       "      <td>816</td>\n",
       "      <td>28</td>\n",
       "      <td>2.500</td>\n",
       "      <td>0.000</td>\n",
       "    </tr>\n",
       "  </tbody>\n",
       "</table>\n",
       "<p>5 rows × 21 columns</p>\n",
       "</div>"
      ],
      "text/plain": [
       "   client_num     attrition_flag  customer_age gender  dependent_count  \\\n",
       "0   768805383  Existing Customer            45      M                3   \n",
       "1   818770008  Existing Customer            49      F                5   \n",
       "2   713982108  Existing Customer            51      M                3   \n",
       "3   769911858  Existing Customer            40      F                4   \n",
       "4   709106358  Existing Customer            40      M                3   \n",
       "\n",
       "  education_level marital_status income_category card_category  \\\n",
       "0     High School        Married     $60K - $80K          Blue   \n",
       "1        Graduate         Single  Less than $40K          Blue   \n",
       "2        Graduate        Married    $80K - $120K          Blue   \n",
       "3     High School        Unknown  Less than $40K          Blue   \n",
       "4      Uneducated        Married     $60K - $80K          Blue   \n",
       "\n",
       "   months_on_book  ...  months_inactive_12_mon  contacts_count_12_mon  \\\n",
       "0              39  ...                       1                      3   \n",
       "1              44  ...                       1                      2   \n",
       "2              36  ...                       1                      0   \n",
       "3              34  ...                       4                      1   \n",
       "4              21  ...                       1                      0   \n",
       "\n",
       "   credit_limit  total_revolving_bal  avg_open_to_buy  total_amt_chng_q4_q1  \\\n",
       "0       12691.0                  777          11914.0                 1.335   \n",
       "1        8256.0                  864           7392.0                 1.541   \n",
       "2        3418.0                    0           3418.0                 2.594   \n",
       "3        3313.0                 2517            796.0                 1.405   \n",
       "4        4716.0                    0           4716.0                 2.175   \n",
       "\n",
       "   total_trans_amt  total_trans_ct  total_ct_chng_q4_q1  avg_utilization_ratio  \n",
       "0             1144              42                1.625                  0.061  \n",
       "1             1291              33                3.714                  0.105  \n",
       "2             1887              20                2.333                  0.000  \n",
       "3             1171              20                2.333                  0.760  \n",
       "4              816              28                2.500                  0.000  \n",
       "\n",
       "[5 rows x 21 columns]"
      ]
     },
     "execution_count": 30,
     "metadata": {},
     "output_type": "execute_result"
    }
   ],
   "source": [
    "data.head()"
   ]
  },
  {
   "cell_type": "markdown",
   "id": "ac31a1c2",
   "metadata": {},
   "source": [
    "# 2.1 Exploratory Data Analysis"
   ]
  },
  {
   "cell_type": "markdown",
   "id": "1aefc451",
   "metadata": {},
   "source": [
    "### 2.1.1 Descriptive statistics for all numeric features of the dataset"
   ]
  },
  {
   "cell_type": "code",
   "execution_count": 31,
   "id": "32e21446",
   "metadata": {
    "scrolled": true
   },
   "outputs": [
    {
     "data": {
      "text/html": [
       "<div>\n",
       "<style scoped>\n",
       "    .dataframe tbody tr th:only-of-type {\n",
       "        vertical-align: middle;\n",
       "    }\n",
       "\n",
       "    .dataframe tbody tr th {\n",
       "        vertical-align: top;\n",
       "    }\n",
       "\n",
       "    .dataframe thead th {\n",
       "        text-align: right;\n",
       "    }\n",
       "</style>\n",
       "<table border=\"1\" class=\"dataframe\">\n",
       "  <thead>\n",
       "    <tr style=\"text-align: right;\">\n",
       "      <th></th>\n",
       "      <th>client_num</th>\n",
       "      <th>customer_age</th>\n",
       "      <th>dependent_count</th>\n",
       "      <th>months_on_book</th>\n",
       "      <th>total_relationship_count</th>\n",
       "      <th>months_inactive_12_mon</th>\n",
       "      <th>contacts_count_12_mon</th>\n",
       "      <th>credit_limit</th>\n",
       "      <th>total_revolving_bal</th>\n",
       "      <th>avg_open_to_buy</th>\n",
       "      <th>total_amt_chng_q4_q1</th>\n",
       "      <th>total_trans_amt</th>\n",
       "      <th>total_trans_ct</th>\n",
       "      <th>total_ct_chng_q4_q1</th>\n",
       "      <th>avg_utilization_ratio</th>\n",
       "    </tr>\n",
       "  </thead>\n",
       "  <tbody>\n",
       "    <tr>\n",
       "      <th>count</th>\n",
       "      <td>1.012700e+04</td>\n",
       "      <td>10127.000000</td>\n",
       "      <td>10127.000000</td>\n",
       "      <td>10127.000000</td>\n",
       "      <td>10127.000000</td>\n",
       "      <td>10127.000000</td>\n",
       "      <td>10127.000000</td>\n",
       "      <td>10127.000000</td>\n",
       "      <td>10127.000000</td>\n",
       "      <td>10127.000000</td>\n",
       "      <td>10127.000000</td>\n",
       "      <td>10127.000000</td>\n",
       "      <td>10127.000000</td>\n",
       "      <td>10127.000000</td>\n",
       "      <td>10127.000000</td>\n",
       "    </tr>\n",
       "    <tr>\n",
       "      <th>mean</th>\n",
       "      <td>7.391776e+08</td>\n",
       "      <td>46.325960</td>\n",
       "      <td>2.346203</td>\n",
       "      <td>35.928409</td>\n",
       "      <td>3.812580</td>\n",
       "      <td>2.341167</td>\n",
       "      <td>2.455317</td>\n",
       "      <td>8631.953698</td>\n",
       "      <td>1162.814061</td>\n",
       "      <td>7469.139637</td>\n",
       "      <td>0.759941</td>\n",
       "      <td>4404.086304</td>\n",
       "      <td>64.858695</td>\n",
       "      <td>0.712222</td>\n",
       "      <td>0.274894</td>\n",
       "    </tr>\n",
       "    <tr>\n",
       "      <th>std</th>\n",
       "      <td>3.690378e+07</td>\n",
       "      <td>8.016814</td>\n",
       "      <td>1.298908</td>\n",
       "      <td>7.986416</td>\n",
       "      <td>1.554408</td>\n",
       "      <td>1.010622</td>\n",
       "      <td>1.106225</td>\n",
       "      <td>9088.776650</td>\n",
       "      <td>814.987335</td>\n",
       "      <td>9090.685324</td>\n",
       "      <td>0.219207</td>\n",
       "      <td>3397.129254</td>\n",
       "      <td>23.472570</td>\n",
       "      <td>0.238086</td>\n",
       "      <td>0.275691</td>\n",
       "    </tr>\n",
       "    <tr>\n",
       "      <th>min</th>\n",
       "      <td>7.080821e+08</td>\n",
       "      <td>26.000000</td>\n",
       "      <td>0.000000</td>\n",
       "      <td>13.000000</td>\n",
       "      <td>1.000000</td>\n",
       "      <td>0.000000</td>\n",
       "      <td>0.000000</td>\n",
       "      <td>1438.300000</td>\n",
       "      <td>0.000000</td>\n",
       "      <td>3.000000</td>\n",
       "      <td>0.000000</td>\n",
       "      <td>510.000000</td>\n",
       "      <td>10.000000</td>\n",
       "      <td>0.000000</td>\n",
       "      <td>0.000000</td>\n",
       "    </tr>\n",
       "    <tr>\n",
       "      <th>25%</th>\n",
       "      <td>7.130368e+08</td>\n",
       "      <td>41.000000</td>\n",
       "      <td>1.000000</td>\n",
       "      <td>31.000000</td>\n",
       "      <td>3.000000</td>\n",
       "      <td>2.000000</td>\n",
       "      <td>2.000000</td>\n",
       "      <td>2555.000000</td>\n",
       "      <td>359.000000</td>\n",
       "      <td>1324.500000</td>\n",
       "      <td>0.631000</td>\n",
       "      <td>2155.500000</td>\n",
       "      <td>45.000000</td>\n",
       "      <td>0.582000</td>\n",
       "      <td>0.023000</td>\n",
       "    </tr>\n",
       "    <tr>\n",
       "      <th>50%</th>\n",
       "      <td>7.179264e+08</td>\n",
       "      <td>46.000000</td>\n",
       "      <td>2.000000</td>\n",
       "      <td>36.000000</td>\n",
       "      <td>4.000000</td>\n",
       "      <td>2.000000</td>\n",
       "      <td>2.000000</td>\n",
       "      <td>4549.000000</td>\n",
       "      <td>1276.000000</td>\n",
       "      <td>3474.000000</td>\n",
       "      <td>0.736000</td>\n",
       "      <td>3899.000000</td>\n",
       "      <td>67.000000</td>\n",
       "      <td>0.702000</td>\n",
       "      <td>0.176000</td>\n",
       "    </tr>\n",
       "    <tr>\n",
       "      <th>75%</th>\n",
       "      <td>7.731435e+08</td>\n",
       "      <td>52.000000</td>\n",
       "      <td>3.000000</td>\n",
       "      <td>40.000000</td>\n",
       "      <td>5.000000</td>\n",
       "      <td>3.000000</td>\n",
       "      <td>3.000000</td>\n",
       "      <td>11067.500000</td>\n",
       "      <td>1784.000000</td>\n",
       "      <td>9859.000000</td>\n",
       "      <td>0.859000</td>\n",
       "      <td>4741.000000</td>\n",
       "      <td>81.000000</td>\n",
       "      <td>0.818000</td>\n",
       "      <td>0.503000</td>\n",
       "    </tr>\n",
       "    <tr>\n",
       "      <th>max</th>\n",
       "      <td>8.283431e+08</td>\n",
       "      <td>73.000000</td>\n",
       "      <td>5.000000</td>\n",
       "      <td>56.000000</td>\n",
       "      <td>6.000000</td>\n",
       "      <td>6.000000</td>\n",
       "      <td>6.000000</td>\n",
       "      <td>34516.000000</td>\n",
       "      <td>2517.000000</td>\n",
       "      <td>34516.000000</td>\n",
       "      <td>3.397000</td>\n",
       "      <td>18484.000000</td>\n",
       "      <td>139.000000</td>\n",
       "      <td>3.714000</td>\n",
       "      <td>0.999000</td>\n",
       "    </tr>\n",
       "  </tbody>\n",
       "</table>\n",
       "</div>"
      ],
      "text/plain": [
       "         client_num  customer_age  dependent_count  months_on_book  \\\n",
       "count  1.012700e+04  10127.000000     10127.000000    10127.000000   \n",
       "mean   7.391776e+08     46.325960         2.346203       35.928409   \n",
       "std    3.690378e+07      8.016814         1.298908        7.986416   \n",
       "min    7.080821e+08     26.000000         0.000000       13.000000   \n",
       "25%    7.130368e+08     41.000000         1.000000       31.000000   \n",
       "50%    7.179264e+08     46.000000         2.000000       36.000000   \n",
       "75%    7.731435e+08     52.000000         3.000000       40.000000   \n",
       "max    8.283431e+08     73.000000         5.000000       56.000000   \n",
       "\n",
       "       total_relationship_count  months_inactive_12_mon  \\\n",
       "count              10127.000000            10127.000000   \n",
       "mean                   3.812580                2.341167   \n",
       "std                    1.554408                1.010622   \n",
       "min                    1.000000                0.000000   \n",
       "25%                    3.000000                2.000000   \n",
       "50%                    4.000000                2.000000   \n",
       "75%                    5.000000                3.000000   \n",
       "max                    6.000000                6.000000   \n",
       "\n",
       "       contacts_count_12_mon  credit_limit  total_revolving_bal  \\\n",
       "count           10127.000000  10127.000000         10127.000000   \n",
       "mean                2.455317   8631.953698          1162.814061   \n",
       "std                 1.106225   9088.776650           814.987335   \n",
       "min                 0.000000   1438.300000             0.000000   \n",
       "25%                 2.000000   2555.000000           359.000000   \n",
       "50%                 2.000000   4549.000000          1276.000000   \n",
       "75%                 3.000000  11067.500000          1784.000000   \n",
       "max                 6.000000  34516.000000          2517.000000   \n",
       "\n",
       "       avg_open_to_buy  total_amt_chng_q4_q1  total_trans_amt  total_trans_ct  \\\n",
       "count     10127.000000          10127.000000     10127.000000    10127.000000   \n",
       "mean       7469.139637              0.759941      4404.086304       64.858695   \n",
       "std        9090.685324              0.219207      3397.129254       23.472570   \n",
       "min           3.000000              0.000000       510.000000       10.000000   \n",
       "25%        1324.500000              0.631000      2155.500000       45.000000   \n",
       "50%        3474.000000              0.736000      3899.000000       67.000000   \n",
       "75%        9859.000000              0.859000      4741.000000       81.000000   \n",
       "max       34516.000000              3.397000     18484.000000      139.000000   \n",
       "\n",
       "       total_ct_chng_q4_q1  avg_utilization_ratio  \n",
       "count         10127.000000           10127.000000  \n",
       "mean              0.712222               0.274894  \n",
       "std               0.238086               0.275691  \n",
       "min               0.000000               0.000000  \n",
       "25%               0.582000               0.023000  \n",
       "50%               0.702000               0.176000  \n",
       "75%               0.818000               0.503000  \n",
       "max               3.714000               0.999000  "
      ]
     },
     "execution_count": 31,
     "metadata": {},
     "output_type": "execute_result"
    }
   ],
   "source": [
    "numeric_features = data.select_dtypes(include=[\"int64\", \"float64\"])\n",
    "statistics = numeric_features.describe()\n",
    "statistics"
   ]
  },
  {
   "cell_type": "markdown",
   "id": "6d17dc93",
   "metadata": {},
   "source": [
    "###  2.1.2 Descriptive statistics of attrited and existing customers"
   ]
  },
  {
   "cell_type": "code",
   "execution_count": 32,
   "id": "1cc9d9f9",
   "metadata": {},
   "outputs": [
    {
     "name": "stdout",
     "output_type": "stream",
     "text": [
      "Churned Customers Statistics:\n",
      "         client_num  customer_age  dependent_count  months_on_book  \\\n",
      "count  1.627000e+03   1627.000000      1627.000000     1627.000000   \n",
      "mean   7.352614e+08     46.659496         2.402581       36.178242   \n",
      "std    3.557725e+07      7.665652         1.275010        7.796548   \n",
      "min    7.080833e+08     26.000000         0.000000       13.000000   \n",
      "25%    7.123713e+08     41.000000         2.000000       32.000000   \n",
      "50%    7.165644e+08     47.000000         2.000000       36.000000   \n",
      "75%    7.683737e+08     52.000000         3.000000       40.000000   \n",
      "max    8.282949e+08     68.000000         5.000000       56.000000   \n",
      "\n",
      "       total_relationship_count  months_inactive_12_mon  \\\n",
      "count               1627.000000             1627.000000   \n",
      "mean                   3.279656                2.693301   \n",
      "std                    1.577782                0.899623   \n",
      "min                    1.000000                0.000000   \n",
      "25%                    2.000000                2.000000   \n",
      "50%                    3.000000                3.000000   \n",
      "75%                    5.000000                3.000000   \n",
      "max                    6.000000                6.000000   \n",
      "\n",
      "       contacts_count_12_mon  credit_limit  total_revolving_bal  \\\n",
      "count            1627.000000   1627.000000          1627.000000   \n",
      "mean                2.972342   8136.039459           672.822987   \n",
      "std                 1.090537   9095.334105           921.385582   \n",
      "min                 0.000000   1438.300000             0.000000   \n",
      "25%                 2.000000   2114.000000             0.000000   \n",
      "50%                 3.000000   4178.000000             0.000000   \n",
      "75%                 4.000000   9933.500000          1303.500000   \n",
      "max                 6.000000  34516.000000          2517.000000   \n",
      "\n",
      "       avg_open_to_buy  total_amt_chng_q4_q1  total_trans_amt  total_trans_ct  \\\n",
      "count      1627.000000           1627.000000      1627.000000     1627.000000   \n",
      "mean       7463.216472              0.694277      3095.025814       44.933620   \n",
      "std        9109.208129              0.214924      2308.227629       14.568429   \n",
      "min           3.000000              0.000000       510.000000       10.000000   \n",
      "25%        1587.000000              0.544500      1903.500000       37.000000   \n",
      "50%        3488.000000              0.701000      2329.000000       43.000000   \n",
      "75%        9257.500000              0.856000      2772.000000       51.000000   \n",
      "max       34516.000000              1.492000     10583.000000       94.000000   \n",
      "\n",
      "       total_ct_chng_q4_q1  avg_utilization_ratio  \n",
      "count          1627.000000            1627.000000  \n",
      "mean              0.554386               0.162475  \n",
      "std               0.226854               0.264458  \n",
      "min               0.000000               0.000000  \n",
      "25%               0.400000               0.000000  \n",
      "50%               0.531000               0.000000  \n",
      "75%               0.692000               0.231000  \n",
      "max               2.500000               0.999000  \n",
      "\n",
      "Existing Customers Statistics:\n",
      "         client_num  customer_age  dependent_count  months_on_book  \\\n",
      "count  8.500000e+03   8500.000000      8500.000000     8500.000000   \n",
      "mean   7.399272e+08     46.262118         2.335412       35.880588   \n",
      "std    3.710723e+07      8.081157         1.303229        8.021810   \n",
      "min    7.080821e+08     26.000000         0.000000       13.000000   \n",
      "25%    7.132197e+08     41.000000         1.000000       31.000000   \n",
      "50%    7.181643e+08     46.000000         2.000000       36.000000   \n",
      "75%    7.783415e+08     52.000000         3.000000       40.000000   \n",
      "max    8.283431e+08     73.000000         5.000000       56.000000   \n",
      "\n",
      "       total_relationship_count  months_inactive_12_mon  \\\n",
      "count               8500.000000             8500.000000   \n",
      "mean                   3.914588                2.273765   \n",
      "std                    1.528949                1.016741   \n",
      "min                    1.000000                0.000000   \n",
      "25%                    3.000000                1.000000   \n",
      "50%                    4.000000                2.000000   \n",
      "75%                    5.000000                3.000000   \n",
      "max                    6.000000                6.000000   \n",
      "\n",
      "       contacts_count_12_mon  credit_limit  total_revolving_bal  \\\n",
      "count            8500.000000   8500.000000          8500.000000   \n",
      "mean                2.356353   8726.877518          1256.604118   \n",
      "std                 1.081436   9084.969807           757.745354   \n",
      "min                 0.000000   1438.300000             0.000000   \n",
      "25%                 2.000000   2602.000000           800.000000   \n",
      "50%                 2.000000   4643.500000          1364.000000   \n",
      "75%                 3.000000  11252.750000          1807.000000   \n",
      "max                 5.000000  34516.000000          2517.000000   \n",
      "\n",
      "       avg_open_to_buy  total_amt_chng_q4_q1  total_trans_amt  total_trans_ct  \\\n",
      "count      8500.000000           8500.000000      8500.000000     8500.000000   \n",
      "mean       7470.273400              0.772510      4654.655882       68.672588   \n",
      "std        9087.671862              0.217783      3512.772635       22.919011   \n",
      "min          15.000000              0.256000       816.000000       11.000000   \n",
      "25%        1184.500000              0.643000      2384.750000       54.000000   \n",
      "50%        3469.500000              0.743000      4100.000000       71.000000   \n",
      "75%        9978.250000              0.860000      4781.250000       82.000000   \n",
      "max       34516.000000              3.397000     18484.000000      139.000000   \n",
      "\n",
      "       total_ct_chng_q4_q1  avg_utilization_ratio  \n",
      "count          8500.000000            8500.000000  \n",
      "mean              0.742434               0.296412  \n",
      "std               0.228054               0.272568  \n",
      "min               0.028000               0.000000  \n",
      "25%               0.617000               0.055000  \n",
      "50%               0.721000               0.211000  \n",
      "75%               0.833000               0.529250  \n",
      "max               3.714000               0.994000  \n"
     ]
    }
   ],
   "source": [
    "# Split the dataset into churned and existing customers\n",
    "churned_customers = data[data[\"attrition_flag\"] == \"Attrited Customer\"]\n",
    "existing_customers = data[data[\"attrition_flag\"] == \"Existing Customer\"]\n",
    "\n",
    "churned_stats = churned_customers.describe()\n",
    "existing_stats = existing_customers.describe()\n",
    "\n",
    "print(\"Churned Customers Statistics:\")\n",
    "print(churned_stats)\n",
    "print(\"\\nExisting Customers Statistics:\")\n",
    "print(existing_stats)"
   ]
  },
  {
   "cell_type": "markdown",
   "id": "4e8e520a",
   "metadata": {},
   "source": [
    "The churned customers group consists of 1,627 customers, with an average customer age of 46.66 years and an average of 2.40 dependents. They had an average of 36.18 months on book and a total relationship count of 3.28. The average credit limit for churned customers is \\\\$8,136, with an average total revolving balance of $672.82.\n",
    "\n",
    "On the other hand, the existing customers group includes 8,500 customers, with an average age of 46.26 years and an average of 2.34 dependents. They had an average of 35.88 months on book and a total relationship count of 3.91. Existing customers have an average credit limit of \\\\$8,726, with an average total revolving balance of $1,256.60.\n",
    "\n",
    "Overall, the churned customers have slightly lower average credit limits and lower total revolving balances compared to the existing customers."
   ]
  },
  {
   "cell_type": "markdown",
   "id": "3f9120a4",
   "metadata": {},
   "source": [
    "### 2.1.3 Distribution (in percentage) of all the categorical features of the dataset."
   ]
  },
  {
   "cell_type": "code",
   "execution_count": 33,
   "id": "f7421599",
   "metadata": {},
   "outputs": [
    {
     "name": "stdout",
     "output_type": "stream",
     "text": [
      "Categorical Features Distribution:\n",
      "                   attrition_flag     gender  education_level  marital_status  \\\n",
      "$120K +                       NaN        NaN              NaN             NaN   \n",
      "$40K - $60K                   NaN        NaN              NaN             NaN   \n",
      "$60K - $80K                   NaN        NaN              NaN             NaN   \n",
      "$80K - $120K                  NaN        NaN              NaN             NaN   \n",
      "Attrited Customer       16.065962        NaN              NaN             NaN   \n",
      "Blue                          NaN        NaN              NaN             NaN   \n",
      "College                       NaN        NaN        10.002962             NaN   \n",
      "Divorced                      NaN        NaN              NaN        7.386195   \n",
      "Doctorate                     NaN        NaN         4.453441             NaN   \n",
      "Existing Customer       83.934038        NaN              NaN             NaN   \n",
      "F                             NaN  52.908068              NaN             NaN   \n",
      "Gold                          NaN        NaN              NaN             NaN   \n",
      "Graduate                      NaN        NaN        30.887726             NaN   \n",
      "High School                   NaN        NaN        19.877555             NaN   \n",
      "Less than $40K                NaN        NaN              NaN             NaN   \n",
      "M                             NaN  47.091932              NaN             NaN   \n",
      "Married                       NaN        NaN              NaN       46.282216   \n",
      "Platinum                      NaN        NaN              NaN             NaN   \n",
      "Post-Graduate                 NaN        NaN         5.095290             NaN   \n",
      "Silver                        NaN        NaN              NaN             NaN   \n",
      "Single                        NaN        NaN              NaN       38.935519   \n",
      "Uneducated                    NaN        NaN        14.683519             NaN   \n",
      "Unknown                       NaN        NaN        14.999506        7.396070   \n",
      "\n",
      "                   income_category  card_category  \n",
      "$120K +                   7.178829            NaN  \n",
      "$40K - $60K              17.675521            NaN  \n",
      "$60K - $80K              13.844179            NaN  \n",
      "$80K - $120K             15.157500            NaN  \n",
      "Attrited Customer              NaN            NaN  \n",
      "Blue                           NaN      93.176656  \n",
      "College                        NaN            NaN  \n",
      "Divorced                       NaN            NaN  \n",
      "Doctorate                      NaN            NaN  \n",
      "Existing Customer              NaN            NaN  \n",
      "F                              NaN            NaN  \n",
      "Gold                           NaN       1.145453  \n",
      "Graduate                       NaN            NaN  \n",
      "High School                    NaN            NaN  \n",
      "Less than $40K           35.163425            NaN  \n",
      "M                              NaN            NaN  \n",
      "Married                        NaN            NaN  \n",
      "Platinum                       NaN       0.197492  \n",
      "Post-Graduate                  NaN            NaN  \n",
      "Silver                         NaN       5.480399  \n",
      "Single                         NaN            NaN  \n",
      "Uneducated                     NaN            NaN  \n",
      "Unknown                  10.980547            NaN  \n"
     ]
    }
   ],
   "source": [
    "# Calculate the distribution of categorical features\n",
    "categorical_features = data.select_dtypes(include=[\"object\"])\n",
    "distribution = categorical_features.apply(lambda x: x.value_counts() / len(x) * 100)\n",
    "\n",
    "print(\"Categorical Features Distribution:\")\n",
    "print(distribution)"
   ]
  },
  {
   "cell_type": "markdown",
   "id": "3d4b43d1",
   "metadata": {},
   "source": [
    "The categorical features distribution shows that among the attrited customers, the majority (16.07%) had an income category of \"$120K+.\" The education level distribution among attrited customers shows that 10% had a college education, 7.39% were divorced, and 4.45% had a doctorate degree.\n",
    "\n",
    "Among the existing customers, 83.93% were labeled as \"Blue\" cardholders, 46.28% were married, and 38.94% were single. Additionally, the income category distribution among existing customers shows that 35.16% had an income level of \"Less than $40K,\" and 93.18% held a \"Blue\" card.\n",
    "\n",
    "The card category distribution indicates that the majority of existing customers (93.18%) held a \"Blue\" card, while a small portion (1.15%) held a \"Gold\" card and an even smaller portion (0.20%) held a \"Platinum\" card."
   ]
  },
  {
   "cell_type": "markdown",
   "id": "1631ec9d",
   "metadata": {},
   "source": [
    "### 2.1.4 Creating Plots"
   ]
  },
  {
   "cell_type": "code",
   "execution_count": 34,
   "id": "878c59ed",
   "metadata": {
    "scrolled": true
   },
   "outputs": [
    {
     "data": {
      "text/plain": [
       "<Figure size 800x600 with 0 Axes>"
      ]
     },
     "metadata": {},
     "output_type": "display_data"
    },
    {
     "data": {
      "image/png": "[encoded data removed]",
      "text/plain": [
       "<Figure size 640x480 with 1 Axes>"
      ]
     },
     "metadata": {},
     "output_type": "display_data"
    }
   ],
   "source": [
    "import matplotlib.pyplot as plt\n",
    "plt.figure(figsize=(8, 6))\n",
    "if data['education_level'].dtype == \"object\":\n",
    "    data.groupby('education_level')[\"attrition_flag\"].value_counts().unstack().plot(kind=\"bar\", stacked=True)\n",
    "else:\n",
    "    plt.scatter(data['education_level'], data[\"attrition_flag\"])\n",
    "plt.xlabel('education_level')\n",
    "plt.ylabel(\"Count\")\n",
    "plt.title(\"Relationship between {} and Attrition Flag\".format('education_level'))\n",
    "plt.legend([\"Existing Customer\", \"Attrited Customer\"])\n",
    "plt.show()"
   ]
  },
  {
   "cell_type": "markdown",
   "id": "6febcc8d",
   "metadata": {},
   "source": [
    "\"education_level\" vs. \"attrition_flag\" plot: \n",
    "    This plot visualizes the relationship between the education level of customers and their attrition flag (whether they are existing or attrited customers). It shows a stacked bar chart for different education levels, indicating the count of existing and attrited customers within each category."
   ]
  },
  {
   "cell_type": "code",
   "execution_count": 35,
   "id": "7148934b",
   "metadata": {
    "scrolled": true
   },
   "outputs": [
    {
     "data": {
      "image/png": "[encoded data removed]",
      "text/plain": [
       "<Figure size 800x600 with 1 Axes>"
      ]
     },
     "metadata": {},
     "output_type": "display_data"
    }
   ],
   "source": [
    "plt.figure(figsize=(8, 6))\n",
    "if data['credit_limit'].dtype == \"object\":\n",
    "    data.groupby('credit_limit')[\"attrition_flag\"].value_counts().unstack().plot(kind=\"bar\", stacked=True)\n",
    "else:\n",
    "    plt.scatter(data['credit_limit'], data[\"attrition_flag\"])\n",
    "plt.xlabel('credit_limit')\n",
    "plt.ylabel(\"Count\")\n",
    "plt.title(\"Relationship between {} and Attrition Flag\".format('credit_limit'))\n",
    "plt.legend([\"Existing Customer\", \"Attrited Customer\"])\n",
    "plt.show()"
   ]
  },
  {
   "cell_type": "markdown",
   "id": "ac2df735",
   "metadata": {},
   "source": [
    "\"credit_limit\" vs. \"attrition_flag\" plot: \n",
    "    This plot displays the relationship between the credit limit of customers and their attrition flag. It shows a scatter plot with credit limit values on the x-axis and counts of existing and attrited customers on the y-axis."
   ]
  },
  {
   "cell_type": "code",
   "execution_count": 36,
   "id": "b77c8087",
   "metadata": {},
   "outputs": [
    {
     "data": {
      "image/png": "[encoded data removed]",
      "text/plain": [
       "<Figure size 800x600 with 1 Axes>"
      ]
     },
     "metadata": {},
     "output_type": "display_data"
    }
   ],
   "source": [
    "plt.figure(figsize=(8, 6))\n",
    "if data['total_trans_amt'].dtype == \"object\":\n",
    "    data.groupby('total_trans_amt')[\"attrition_flag\"].value_counts().unstack().plot(kind=\"bar\", stacked=True)\n",
    "else:\n",
    "    plt.scatter(data['total_trans_amt'], data[\"attrition_flag\"])\n",
    "plt.xlabel('total_trans_amt')\n",
    "plt.ylabel(\"Count\")\n",
    "plt.title(\"Relationship between {} and Attrition Flag\".format('total_trans_amt'))\n",
    "plt.legend([\"Existing Customer\", \"Attrited Customer\"])\n",
    "plt.show()"
   ]
  },
  {
   "cell_type": "markdown",
   "id": "8c7ff2a0",
   "metadata": {},
   "source": [
    "\"total_trans_amt\" vs. \"attrition_flag\" plot: This plot illustrates the relationship between the total transaction amount of customers and their attrition flag. It shows a scatter plot with total transaction amounts on the x-axis and counts of existing and attrited customers on the y-axis."
   ]
  },
  {
   "cell_type": "markdown",
   "id": "8321f215",
   "metadata": {},
   "source": [
    "# 2.2 Data Preprocessing"
   ]
  },
  {
   "cell_type": "markdown",
   "id": "eb78fc03",
   "metadata": {},
   "source": [
    "### 2.2.1 Number of missing and duplicate values on the dataset"
   ]
  },
  {
   "cell_type": "code",
   "execution_count": 37,
   "id": "8911c84d",
   "metadata": {},
   "outputs": [
    {
     "name": "stdout",
     "output_type": "stream",
     "text": [
      "Missing Values per Column:\n",
      "client_num                  0\n",
      "attrition_flag              0\n",
      "customer_age                0\n",
      "gender                      0\n",
      "dependent_count             0\n",
      "education_level             0\n",
      "marital_status              0\n",
      "income_category             0\n",
      "card_category               0\n",
      "months_on_book              0\n",
      "total_relationship_count    0\n",
      "months_inactive_12_mon      0\n",
      "contacts_count_12_mon       0\n",
      "credit_limit                0\n",
      "total_revolving_bal         0\n",
      "avg_open_to_buy             0\n",
      "total_amt_chng_q4_q1        0\n",
      "total_trans_amt             0\n",
      "total_trans_ct              0\n",
      "total_ct_chng_q4_q1         0\n",
      "avg_utilization_ratio       0\n",
      "dtype: int64\n",
      "\n",
      "Number of Duplicate Values: 0\n"
     ]
    }
   ],
   "source": [
    "missing_values = data.isnull().sum()\n",
    "print(\"Missing Values per Column:\")\n",
    "print(missing_values)\n",
    "\n",
    "duplicate_values = data.duplicated().sum()\n",
    "print(\"\\nNumber of Duplicate Values:\", duplicate_values)"
   ]
  },
  {
   "cell_type": "markdown",
   "id": "34b66bc1",
   "metadata": {},
   "source": [
    "There are no missing values or duplicate values in any of the columns of the dataset. All columns have a count of 0 for missing values and duplicate values, suggesting that the dataset is complete and does not contain any redundant entries."
   ]
  },
  {
   "cell_type": "markdown",
   "id": "caa37017",
   "metadata": {},
   "source": [
    "### 2.2.2 Handling the missing and duplicate values"
   ]
  },
  {
   "cell_type": "markdown",
   "id": "992ea7eb",
   "metadata": {},
   "source": [
    "Since the provided data shows that there are no missing values or duplicate values in any of the columns, there is no need to handle them. However, in general, if you encounter missing values in a dataset, you can handle them by either removing the rows with missing values, imputing the missing values with mean/mode values."
   ]
  },
  {
   "cell_type": "markdown",
   "id": "35ce780a",
   "metadata": {},
   "source": [
    "### 2.2.3 Encoding the categorical values"
   ]
  },
  {
   "cell_type": "code",
   "execution_count": 38,
   "id": "b431c461",
   "metadata": {},
   "outputs": [],
   "source": [
    "from sklearn.preprocessing import OneHotEncoder\n",
    "\n",
    "# Select categorical features for encoding\n",
    "categorical_features = [\"gender\", \"education_level\", \"marital_status\", \"income_category\", \"card_category\"]\n",
    "\n",
    "# Apply one-hot encoding to categorical features\n",
    "encoder = OneHotEncoder(drop=\"first\")\n",
    "encoded_features = pd.DataFrame(encoder.fit_transform(data[categorical_features]).toarray(),\n",
    "                               columns=encoder.get_feature_names_out(categorical_features))\n",
    "\n",
    "# Replace original categorical features with encoded features\n",
    "data = pd.concat([data.drop(categorical_features, axis=1), encoded_features], axis=1)"
   ]
  },
  {
   "cell_type": "markdown",
   "id": "63a20310",
   "metadata": {},
   "source": [
    "The categorical features are replaced with their corresponding encoded features, resulting in a new dataframe that combines the original non-categorical features with the encoded features."
   ]
  },
  {
   "cell_type": "code",
   "execution_count": 39,
   "id": "13a3fa8f",
   "metadata": {},
   "outputs": [
    {
     "data": {
      "text/html": [
       "<div>\n",
       "<style scoped>\n",
       "    .dataframe tbody tr th:only-of-type {\n",
       "        vertical-align: middle;\n",
       "    }\n",
       "\n",
       "    .dataframe tbody tr th {\n",
       "        vertical-align: top;\n",
       "    }\n",
       "\n",
       "    .dataframe thead th {\n",
       "        text-align: right;\n",
       "    }\n",
       "</style>\n",
       "<table border=\"1\" class=\"dataframe\">\n",
       "  <thead>\n",
       "    <tr style=\"text-align: right;\">\n",
       "      <th></th>\n",
       "      <th>client_num</th>\n",
       "      <th>attrition_flag</th>\n",
       "      <th>customer_age</th>\n",
       "      <th>dependent_count</th>\n",
       "      <th>months_on_book</th>\n",
       "      <th>total_relationship_count</th>\n",
       "      <th>months_inactive_12_mon</th>\n",
       "      <th>contacts_count_12_mon</th>\n",
       "      <th>credit_limit</th>\n",
       "      <th>total_revolving_bal</th>\n",
       "      <th>...</th>\n",
       "      <th>marital_status_Single</th>\n",
       "      <th>marital_status_Unknown</th>\n",
       "      <th>income_category_$40K - $60K</th>\n",
       "      <th>income_category_$60K - $80K</th>\n",
       "      <th>income_category_$80K - $120K</th>\n",
       "      <th>income_category_Less than $40K</th>\n",
       "      <th>income_category_Unknown</th>\n",
       "      <th>card_category_Gold</th>\n",
       "      <th>card_category_Platinum</th>\n",
       "      <th>card_category_Silver</th>\n",
       "    </tr>\n",
       "  </thead>\n",
       "  <tbody>\n",
       "    <tr>\n",
       "      <th>0</th>\n",
       "      <td>768805383</td>\n",
       "      <td>Existing Customer</td>\n",
       "      <td>45</td>\n",
       "      <td>3</td>\n",
       "      <td>39</td>\n",
       "      <td>5</td>\n",
       "      <td>1</td>\n",
       "      <td>3</td>\n",
       "      <td>12691.0</td>\n",
       "      <td>777</td>\n",
       "      <td>...</td>\n",
       "      <td>0.0</td>\n",
       "      <td>0.0</td>\n",
       "      <td>0.0</td>\n",
       "      <td>1.0</td>\n",
       "      <td>0.0</td>\n",
       "      <td>0.0</td>\n",
       "      <td>0.0</td>\n",
       "      <td>0.0</td>\n",
       "      <td>0.0</td>\n",
       "      <td>0.0</td>\n",
       "    </tr>\n",
       "    <tr>\n",
       "      <th>1</th>\n",
       "      <td>818770008</td>\n",
       "      <td>Existing Customer</td>\n",
       "      <td>49</td>\n",
       "      <td>5</td>\n",
       "      <td>44</td>\n",
       "      <td>6</td>\n",
       "      <td>1</td>\n",
       "      <td>2</td>\n",
       "      <td>8256.0</td>\n",
       "      <td>864</td>\n",
       "      <td>...</td>\n",
       "      <td>1.0</td>\n",
       "      <td>0.0</td>\n",
       "      <td>0.0</td>\n",
       "      <td>0.0</td>\n",
       "      <td>0.0</td>\n",
       "      <td>1.0</td>\n",
       "      <td>0.0</td>\n",
       "      <td>0.0</td>\n",
       "      <td>0.0</td>\n",
       "      <td>0.0</td>\n",
       "    </tr>\n",
       "    <tr>\n",
       "      <th>2</th>\n",
       "      <td>713982108</td>\n",
       "      <td>Existing Customer</td>\n",
       "      <td>51</td>\n",
       "      <td>3</td>\n",
       "      <td>36</td>\n",
       "      <td>4</td>\n",
       "      <td>1</td>\n",
       "      <td>0</td>\n",
       "      <td>3418.0</td>\n",
       "      <td>0</td>\n",
       "      <td>...</td>\n",
       "      <td>0.0</td>\n",
       "      <td>0.0</td>\n",
       "      <td>0.0</td>\n",
       "      <td>0.0</td>\n",
       "      <td>1.0</td>\n",
       "      <td>0.0</td>\n",
       "      <td>0.0</td>\n",
       "      <td>0.0</td>\n",
       "      <td>0.0</td>\n",
       "      <td>0.0</td>\n",
       "    </tr>\n",
       "    <tr>\n",
       "      <th>3</th>\n",
       "      <td>769911858</td>\n",
       "      <td>Existing Customer</td>\n",
       "      <td>40</td>\n",
       "      <td>4</td>\n",
       "      <td>34</td>\n",
       "      <td>3</td>\n",
       "      <td>4</td>\n",
       "      <td>1</td>\n",
       "      <td>3313.0</td>\n",
       "      <td>2517</td>\n",
       "      <td>...</td>\n",
       "      <td>0.0</td>\n",
       "      <td>1.0</td>\n",
       "      <td>0.0</td>\n",
       "      <td>0.0</td>\n",
       "      <td>0.0</td>\n",
       "      <td>1.0</td>\n",
       "      <td>0.0</td>\n",
       "      <td>0.0</td>\n",
       "      <td>0.0</td>\n",
       "      <td>0.0</td>\n",
       "    </tr>\n",
       "    <tr>\n",
       "      <th>4</th>\n",
       "      <td>709106358</td>\n",
       "      <td>Existing Customer</td>\n",
       "      <td>40</td>\n",
       "      <td>3</td>\n",
       "      <td>21</td>\n",
       "      <td>5</td>\n",
       "      <td>1</td>\n",
       "      <td>0</td>\n",
       "      <td>4716.0</td>\n",
       "      <td>0</td>\n",
       "      <td>...</td>\n",
       "      <td>0.0</td>\n",
       "      <td>0.0</td>\n",
       "      <td>0.0</td>\n",
       "      <td>1.0</td>\n",
       "      <td>0.0</td>\n",
       "      <td>0.0</td>\n",
       "      <td>0.0</td>\n",
       "      <td>0.0</td>\n",
       "      <td>0.0</td>\n",
       "      <td>0.0</td>\n",
       "    </tr>\n",
       "  </tbody>\n",
       "</table>\n",
       "<p>5 rows × 34 columns</p>\n",
       "</div>"
      ],
      "text/plain": [
       "   client_num     attrition_flag  customer_age  dependent_count  \\\n",
       "0   768805383  Existing Customer            45                3   \n",
       "1   818770008  Existing Customer            49                5   \n",
       "2   713982108  Existing Customer            51                3   \n",
       "3   769911858  Existing Customer            40                4   \n",
       "4   709106358  Existing Customer            40                3   \n",
       "\n",
       "   months_on_book  total_relationship_count  months_inactive_12_mon  \\\n",
       "0              39                         5                       1   \n",
       "1              44                         6                       1   \n",
       "2              36                         4                       1   \n",
       "3              34                         3                       4   \n",
       "4              21                         5                       1   \n",
       "\n",
       "   contacts_count_12_mon  credit_limit  total_revolving_bal  ...  \\\n",
       "0                      3       12691.0                  777  ...   \n",
       "1                      2        8256.0                  864  ...   \n",
       "2                      0        3418.0                    0  ...   \n",
       "3                      1        3313.0                 2517  ...   \n",
       "4                      0        4716.0                    0  ...   \n",
       "\n",
       "   marital_status_Single  marital_status_Unknown  income_category_$40K - $60K  \\\n",
       "0                    0.0                     0.0                          0.0   \n",
       "1                    1.0                     0.0                          0.0   \n",
       "2                    0.0                     0.0                          0.0   \n",
       "3                    0.0                     1.0                          0.0   \n",
       "4                    0.0                     0.0                          0.0   \n",
       "\n",
       "   income_category_$60K - $80K  income_category_$80K - $120K  \\\n",
       "0                          1.0                           0.0   \n",
       "1                          0.0                           0.0   \n",
       "2                          0.0                           1.0   \n",
       "3                          0.0                           0.0   \n",
       "4                          1.0                           0.0   \n",
       "\n",
       "   income_category_Less than $40K  income_category_Unknown  \\\n",
       "0                             0.0                      0.0   \n",
       "1                             1.0                      0.0   \n",
       "2                             0.0                      0.0   \n",
       "3                             1.0                      0.0   \n",
       "4                             0.0                      0.0   \n",
       "\n",
       "   card_category_Gold  card_category_Platinum  card_category_Silver  \n",
       "0                 0.0                     0.0                   0.0  \n",
       "1                 0.0                     0.0                   0.0  \n",
       "2                 0.0                     0.0                   0.0  \n",
       "3                 0.0                     0.0                   0.0  \n",
       "4                 0.0                     0.0                   0.0  \n",
       "\n",
       "[5 rows x 34 columns]"
      ]
     },
     "execution_count": 39,
     "metadata": {},
     "output_type": "execute_result"
    }
   ],
   "source": [
    "data.head()"
   ]
  },
  {
   "cell_type": "markdown",
   "id": "7c57380f",
   "metadata": {},
   "source": [
    "# 2.3 Machine Learning"
   ]
  },
  {
   "cell_type": "markdown",
   "id": "48a304c9",
   "metadata": {},
   "source": [
    "### 2.3.1 You will evaluate your models (train/test split or cross-validation). Implement the so\u0002lution you chose and explain your reasoning"
   ]
  },
  {
   "cell_type": "markdown",
   "id": "66f0e123",
   "metadata": {},
   "source": [
    "I have chosen to use the train/test split method to evaluate the models. This approach involves splitting the available data into two separate sets: one for training the model and the other for testing its performance. By evaluating the model on unseen data from the test set, we can assess its generalization capabilities and identify any potential issues such as overfitting or underfitting."
   ]
  },
  {
   "cell_type": "markdown",
   "id": "c57cceca",
   "metadata": {},
   "source": [
    "### 2.3.2 Two different classification models"
   ]
  },
  {
   "cell_type": "code",
   "execution_count": 40,
   "id": "428049db",
   "metadata": {},
   "outputs": [
    {
     "data": {
      "text/html": [
       "<style>#sk-container-id-3 {color: black;background-color: white;}#sk-container-id-3 pre{padding: 0;}#sk-container-id-3 div.sk-toggleable {background-color: white;}#sk-container-id-3 label.sk-toggleable__label {cursor: pointer;display: block;width: 100%;margin-bottom: 0;padding: 0.3em;box-sizing: border-box;text-align: center;}#sk-container-id-3 label.sk-toggleable__label-arrow:before {content: \"▸\";float: left;margin-right: 0.25em;color: #696969;}#sk-container-id-3 label.sk-toggleable__label-arrow:hover:before {color: black;}#sk-container-id-3 div.sk-estimator:hover label.sk-toggleable__label-arrow:before {color: black;}#sk-container-id-3 div.sk-toggleable__content {max-height: 0;max-width: 0;overflow: hidden;text-align: left;background-color: #f0f8ff;}#sk-container-id-3 div.sk-toggleable__content pre {margin: 0.2em;color: black;border-radius: 0.25em;background-color: #f0f8ff;}#sk-container-id-3 input.sk-toggleable__control:checked~div.sk-toggleable__content {max-height: 200px;max-width: 100%;overflow: auto;}#sk-container-id-3 input.sk-toggleable__control:checked~label.sk-toggleable__label-arrow:before {content: \"▾\";}#sk-container-id-3 div.sk-estimator input.sk-toggleable__control:checked~label.sk-toggleable__label {background-color: #d4ebff;}#sk-container-id-3 div.sk-label input.sk-toggleable__control:checked~label.sk-toggleable__label {background-color: #d4ebff;}#sk-container-id-3 input.sk-hidden--visually {border: 0;clip: rect(1px 1px 1px 1px);clip: rect(1px, 1px, 1px, 1px);height: 1px;margin: -1px;overflow: hidden;padding: 0;position: absolute;width: 1px;}#sk-container-id-3 div.sk-estimator {font-family: monospace;background-color: #f0f8ff;border: 1px dotted black;border-radius: 0.25em;box-sizing: border-box;margin-bottom: 0.5em;}#sk-container-id-3 div.sk-estimator:hover {background-color: #d4ebff;}#sk-container-id-3 div.sk-parallel-item::after {content: \"\";width: 100%;border-bottom: 1px solid gray;flex-grow: 1;}#sk-container-id-3 div.sk-label:hover label.sk-toggleable__label {background-color: #d4ebff;}#sk-container-id-3 div.sk-serial::before {content: \"\";position: absolute;border-left: 1px solid gray;box-sizing: border-box;top: 0;bottom: 0;left: 50%;z-index: 0;}#sk-container-id-3 div.sk-serial {display: flex;flex-direction: column;align-items: center;background-color: white;padding-right: 0.2em;padding-left: 0.2em;position: relative;}#sk-container-id-3 div.sk-item {position: relative;z-index: 1;}#sk-container-id-3 div.sk-parallel {display: flex;align-items: stretch;justify-content: center;background-color: white;position: relative;}#sk-container-id-3 div.sk-item::before, #sk-container-id-3 div.sk-parallel-item::before {content: \"\";position: absolute;border-left: 1px solid gray;box-sizing: border-box;top: 0;bottom: 0;left: 50%;z-index: -1;}#sk-container-id-3 div.sk-parallel-item {display: flex;flex-direction: column;z-index: 1;position: relative;background-color: white;}#sk-container-id-3 div.sk-parallel-item:first-child::after {align-self: flex-end;width: 50%;}#sk-container-id-3 div.sk-parallel-item:last-child::after {align-self: flex-start;width: 50%;}#sk-container-id-3 div.sk-parallel-item:only-child::after {width: 0;}#sk-container-id-3 div.sk-dashed-wrapped {border: 1px dashed gray;margin: 0 0.4em 0.5em 0.4em;box-sizing: border-box;padding-bottom: 0.4em;background-color: white;}#sk-container-id-3 div.sk-label label {font-family: monospace;font-weight: bold;display: inline-block;line-height: 1.2em;}#sk-container-id-3 div.sk-label-container {text-align: center;}#sk-container-id-3 div.sk-container {/* jupyter's `normalize.less` sets `[hidden] { display: none; }` but bootstrap.min.css set `[hidden] { display: none !important; }` so we also need the `!important` here to be able to override the default hidden behavior on the sphinx rendered scikit-learn.org. See: https://github.com/scikit-learn/scikit-learn/issues/21755 */display: inline-block !important;position: relative;}#sk-container-id-3 div.sk-text-repr-fallback {display: none;}</style><div id=\"sk-container-id-3\" class=\"sk-top-container\"><div class=\"sk-text-repr-fallback\"><pre>LogisticRegression()</pre><b>In a Jupyter environment, please rerun this cell to show the HTML representation or trust the notebook. <br />On GitHub, the HTML representation is unable to render, please try loading this page with nbviewer.org.</b></div><div class=\"sk-container\" hidden><div class=\"sk-item\"><div class=\"sk-estimator sk-toggleable\"><input class=\"sk-toggleable__control sk-hidden--visually\" id=\"sk-estimator-id-3\" type=\"checkbox\" checked><label for=\"sk-estimator-id-3\" class=\"sk-toggleable__label sk-toggleable__label-arrow\">LogisticRegression</label><div class=\"sk-toggleable__content\"><pre>LogisticRegression()</pre></div></div></div></div></div>"
      ],
      "text/plain": [
       "LogisticRegression()"
      ]
     },
     "execution_count": 40,
     "metadata": {},
     "output_type": "execute_result"
    }
   ],
   "source": [
    "from sklearn.model_selection import train_test_split\n",
    "from sklearn.linear_model import LogisticRegression\n",
    "from sklearn.tree import DecisionTreeClassifier\n",
    "from sklearn.metrics import classification_report\n",
    "\n",
    "# Split the dataset into features and target variable\n",
    "X = data.drop(\"attrition_flag\", axis=1)\n",
    "y = data[\"attrition_flag\"]\n",
    "\n",
    "# Split the data into training and testing sets\n",
    "X_train, X_test, y_train, y_test = train_test_split(X, y, test_size=0.2, random_state=42)\n",
    "\n",
    "# Train logistic regression model\n",
    "logistic_model = LogisticRegression()\n",
    "logistic_model.fit(X_train, y_train)"
   ]
  },
  {
   "cell_type": "markdown",
   "id": "94484c81",
   "metadata": {},
   "source": [
    "The data is divided into training and testing sets with a test size of 0.2 (20% of the data) and a random state of 42 for reproducibility.\n",
    "\n",
    "Two models are then trained on the training data: a logistic regression model using LogisticRegression() and a decision tree classifier using DecisionTreeClassifier(). The models are trained by calling the fit method on each model object with X_train and y_train as inputs."
   ]
  },
  {
   "cell_type": "code",
   "execution_count": 41,
   "id": "aac2bda3",
   "metadata": {},
   "outputs": [
    {
     "data": {
      "text/html": [
       "<style>#sk-container-id-4 {color: black;background-color: white;}#sk-container-id-4 pre{padding: 0;}#sk-container-id-4 div.sk-toggleable {background-color: white;}#sk-container-id-4 label.sk-toggleable__label {cursor: pointer;display: block;width: 100%;margin-bottom: 0;padding: 0.3em;box-sizing: border-box;text-align: center;}#sk-container-id-4 label.sk-toggleable__label-arrow:before {content: \"▸\";float: left;margin-right: 0.25em;color: #696969;}#sk-container-id-4 label.sk-toggleable__label-arrow:hover:before {color: black;}#sk-container-id-4 div.sk-estimator:hover label.sk-toggleable__label-arrow:before {color: black;}#sk-container-id-4 div.sk-toggleable__content {max-height: 0;max-width: 0;overflow: hidden;text-align: left;background-color: #f0f8ff;}#sk-container-id-4 div.sk-toggleable__content pre {margin: 0.2em;color: black;border-radius: 0.25em;background-color: #f0f8ff;}#sk-container-id-4 input.sk-toggleable__control:checked~div.sk-toggleable__content {max-height: 200px;max-width: 100%;overflow: auto;}#sk-container-id-4 input.sk-toggleable__control:checked~label.sk-toggleable__label-arrow:before {content: \"▾\";}#sk-container-id-4 div.sk-estimator input.sk-toggleable__control:checked~label.sk-toggleable__label {background-color: #d4ebff;}#sk-container-id-4 div.sk-label input.sk-toggleable__control:checked~label.sk-toggleable__label {background-color: #d4ebff;}#sk-container-id-4 input.sk-hidden--visually {border: 0;clip: rect(1px 1px 1px 1px);clip: rect(1px, 1px, 1px, 1px);height: 1px;margin: -1px;overflow: hidden;padding: 0;position: absolute;width: 1px;}#sk-container-id-4 div.sk-estimator {font-family: monospace;background-color: #f0f8ff;border: 1px dotted black;border-radius: 0.25em;box-sizing: border-box;margin-bottom: 0.5em;}#sk-container-id-4 div.sk-estimator:hover {background-color: #d4ebff;}#sk-container-id-4 div.sk-parallel-item::after {content: \"\";width: 100%;border-bottom: 1px solid gray;flex-grow: 1;}#sk-container-id-4 div.sk-label:hover label.sk-toggleable__label {background-color: #d4ebff;}#sk-container-id-4 div.sk-serial::before {content: \"\";position: absolute;border-left: 1px solid gray;box-sizing: border-box;top: 0;bottom: 0;left: 50%;z-index: 0;}#sk-container-id-4 div.sk-serial {display: flex;flex-direction: column;align-items: center;background-color: white;padding-right: 0.2em;padding-left: 0.2em;position: relative;}#sk-container-id-4 div.sk-item {position: relative;z-index: 1;}#sk-container-id-4 div.sk-parallel {display: flex;align-items: stretch;justify-content: center;background-color: white;position: relative;}#sk-container-id-4 div.sk-item::before, #sk-container-id-4 div.sk-parallel-item::before {content: \"\";position: absolute;border-left: 1px solid gray;box-sizing: border-box;top: 0;bottom: 0;left: 50%;z-index: -1;}#sk-container-id-4 div.sk-parallel-item {display: flex;flex-direction: column;z-index: 1;position: relative;background-color: white;}#sk-container-id-4 div.sk-parallel-item:first-child::after {align-self: flex-end;width: 50%;}#sk-container-id-4 div.sk-parallel-item:last-child::after {align-self: flex-start;width: 50%;}#sk-container-id-4 div.sk-parallel-item:only-child::after {width: 0;}#sk-container-id-4 div.sk-dashed-wrapped {border: 1px dashed gray;margin: 0 0.4em 0.5em 0.4em;box-sizing: border-box;padding-bottom: 0.4em;background-color: white;}#sk-container-id-4 div.sk-label label {font-family: monospace;font-weight: bold;display: inline-block;line-height: 1.2em;}#sk-container-id-4 div.sk-label-container {text-align: center;}#sk-container-id-4 div.sk-container {/* jupyter's `normalize.less` sets `[hidden] { display: none; }` but bootstrap.min.css set `[hidden] { display: none !important; }` so we also need the `!important` here to be able to override the default hidden behavior on the sphinx rendered scikit-learn.org. See: https://github.com/scikit-learn/scikit-learn/issues/21755 */display: inline-block !important;position: relative;}#sk-container-id-4 div.sk-text-repr-fallback {display: none;}</style><div id=\"sk-container-id-4\" class=\"sk-top-container\"><div class=\"sk-text-repr-fallback\"><pre>DecisionTreeClassifier()</pre><b>In a Jupyter environment, please rerun this cell to show the HTML representation or trust the notebook. <br />On GitHub, the HTML representation is unable to render, please try loading this page with nbviewer.org.</b></div><div class=\"sk-container\" hidden><div class=\"sk-item\"><div class=\"sk-estimator sk-toggleable\"><input class=\"sk-toggleable__control sk-hidden--visually\" id=\"sk-estimator-id-4\" type=\"checkbox\" checked><label for=\"sk-estimator-id-4\" class=\"sk-toggleable__label sk-toggleable__label-arrow\">DecisionTreeClassifier</label><div class=\"sk-toggleable__content\"><pre>DecisionTreeClassifier()</pre></div></div></div></div></div>"
      ],
      "text/plain": [
       "DecisionTreeClassifier()"
      ]
     },
     "execution_count": 41,
     "metadata": {},
     "output_type": "execute_result"
    }
   ],
   "source": [
    "# Train decision tree classifier\n",
    "tree_model = DecisionTreeClassifier()\n",
    "tree_model.fit(X_train, y_train)"
   ]
  },
  {
   "cell_type": "markdown",
   "id": "386e2887",
   "metadata": {},
   "source": [
    "### 2.3.3 Hyperparameter-tuning to improve your models"
   ]
  },
  {
   "cell_type": "code",
   "execution_count": 42,
   "id": "f7606927",
   "metadata": {},
   "outputs": [
    {
     "name": "stdout",
     "output_type": "stream",
     "text": [
      "Best Logistic Regression Parameters: {'C': 0.1, 'penalty': 'l2'}\n",
      "Best Decision Tree Parameters: {'max_depth': 7, 'min_samples_split': 6}\n"
     ]
    }
   ],
   "source": [
    "from sklearn.model_selection import GridSearchCV\n",
    "\n",
    "# Define the hyperparameters to tune\n",
    "logistic_params = {\"C\": [0.1, 1, 10], \"penalty\": [\"l2\"]}\n",
    "tree_params = {\"max_depth\": [3, 5, 7], \"min_samples_split\": [2, 4, 6]}\n",
    "\n",
    "# Perform grid search for logistic regression\n",
    "logistic_grid = GridSearchCV(logistic_model, param_grid=logistic_params, cv=5)\n",
    "logistic_grid.fit(X_train, y_train)\n",
    "\n",
    "# Perform grid search for decision tree classifier\n",
    "tree_grid = GridSearchCV(tree_model, param_grid=tree_params, cv=5)\n",
    "tree_grid.fit(X_train, y_train)\n",
    "\n",
    "# Get the best hyperparameters for each model\n",
    "best_logistic_params = logistic_grid.best_params_\n",
    "best_tree_params = tree_grid.best_params_\n",
    "\n",
    "print(\"Best Logistic Regression Parameters:\", best_logistic_params)\n",
    "print(\"Best Decision Tree Parameters:\", best_tree_params)\n"
   ]
  },
  {
   "cell_type": "markdown",
   "id": "f6de5228",
   "metadata": {},
   "source": [
    "The provided code performs grid search to find the best hyperparameters for a logistic regression model and a decision tree classifier. The hyperparameters being tuned are \"C\" and \"penalty\" for logistic regression, and \"max_depth\" and \"min_samples_split\" for the decision tree classifier. The best hyperparameters for each model are obtained using GridSearchCV."
   ]
  },
  {
   "cell_type": "markdown",
   "id": "93a25da7",
   "metadata": {},
   "source": [
    "### 2.3.4 Comparing the performance of each model using a classification report"
   ]
  },
  {
   "cell_type": "code",
   "execution_count": 43,
   "id": "84dd4765",
   "metadata": {},
   "outputs": [
    {
     "name": "stdout",
     "output_type": "stream",
     "text": [
      "Logistic Regression Classification Report:\n",
      "                   precision    recall  f1-score   support\n",
      "\n",
      "Attrited Customer       1.00      0.00      0.00       327\n",
      "Existing Customer       0.84      1.00      0.91      1699\n",
      "\n",
      "         accuracy                           0.84      2026\n",
      "        macro avg       0.92      0.50      0.46      2026\n",
      "     weighted avg       0.86      0.84      0.76      2026\n",
      "\n",
      "\n",
      "Decision Tree Classification Report:\n",
      "                   precision    recall  f1-score   support\n",
      "\n",
      "Attrited Customer       0.85      0.78      0.81       327\n",
      "Existing Customer       0.96      0.97      0.97      1699\n",
      "\n",
      "         accuracy                           0.94      2026\n",
      "        macro avg       0.90      0.88      0.89      2026\n",
      "     weighted avg       0.94      0.94      0.94      2026\n",
      "\n"
     ]
    }
   ],
   "source": [
    "# Predict using the best logistic regression model\n",
    "logistic_predictions = logistic_grid.predict(X_test)\n",
    "\n",
    "# Predict using the best decision tree model\n",
    "tree_predictions = tree_grid.predict(X_test)\n",
    "\n",
    "# Generate classification reports\n",
    "logistic_report = classification_report(y_test, logistic_predictions, zero_division = 1)\n",
    "# By setting zero_division=1, the precision and F-score will be set to 0.0 for labels \n",
    "# with no predicted samples, but without triggering the warning.\n",
    "tree_report = classification_report(y_test, tree_predictions, zero_division = 1)\n",
    "\n",
    "print(\"Logistic Regression Classification Report:\")\n",
    "print(logistic_report)\n",
    "print(\"\\nDecision Tree Classification Report:\")\n",
    "print(tree_report)\n"
   ]
  },
  {
   "cell_type": "markdown",
   "id": "4b392533",
   "metadata": {},
   "source": [
    "Classification reports are generated for both models, showing precision, recall, F1-score, and support for each class. The logistic regression model achieves an accuracy of 84% with a low F1-score for the \"Attrited Customer\" class, while the decision tree model performs better with an accuracy of 94% and higher F1-scores for both classes."
   ]
  },
  {
   "cell_type": "markdown",
   "id": "8d0421be",
   "metadata": {},
   "source": [
    "# 2.4 Model Evaluation and Analysis"
   ]
  },
  {
   "cell_type": "markdown",
   "id": "d9894ff6",
   "metadata": {},
   "source": [
    "### 2.4.1  Confusion matrices of both models"
   ]
  },
  {
   "cell_type": "code",
   "execution_count": 44,
   "id": "6a469c4e",
   "metadata": {
    "scrolled": true
   },
   "outputs": [
    {
     "name": "stderr",
     "output_type": "stream",
     "text": [
      "C:\\Users\\HP\\AppData\\Local\\Programs\\Python\\Python310\\lib\\site-packages\\sklearn\\utils\\deprecation.py:87: FutureWarning: Function plot_confusion_matrix is deprecated; Function `plot_confusion_matrix` is deprecated in 1.0 and will be removed in 1.2. Use one of the class methods: ConfusionMatrixDisplay.from_predictions or ConfusionMatrixDisplay.from_estimator.\n",
      "  warnings.warn(msg, category=FutureWarning)\n"
     ]
    },
    {
     "data": {
      "image/png": "[encoded data removed]",
      "text/plain": [
       "<Figure size 640x480 with 2 Axes>"
      ]
     },
     "metadata": {},
     "output_type": "display_data"
    },
    {
     "name": "stderr",
     "output_type": "stream",
     "text": [
      "C:\\Users\\HP\\AppData\\Local\\Programs\\Python\\Python310\\lib\\site-packages\\sklearn\\utils\\deprecation.py:87: FutureWarning: Function plot_confusion_matrix is deprecated; Function `plot_confusion_matrix` is deprecated in 1.0 and will be removed in 1.2. Use one of the class methods: ConfusionMatrixDisplay.from_predictions or ConfusionMatrixDisplay.from_estimator.\n",
      "  warnings.warn(msg, category=FutureWarning)\n"
     ]
    },
    {
     "data": {
      "image/png": "[encoded data removed]",
      "text/plain": [
       "<Figure size 640x480 with 2 Axes>"
      ]
     },
     "metadata": {},
     "output_type": "display_data"
    }
   ],
   "source": [
    "import matplotlib.pyplot as plt\n",
    "from sklearn.metrics import plot_confusion_matrix\n",
    "\n",
    "# Confusion matrix for Logistic Regression\n",
    "disp_lr = plot_confusion_matrix(logistic_model, X_test, y_test, display_labels=['Attrited Customer', 'Existing Customer'], cmap=plt.cm.Blues)\n",
    "disp_lr.ax_.set_title(\"Logistic Regression Confusion Matrix\")\n",
    "plt.show()\n",
    "\n",
    "# Confusion matrix for Decision Tree\n",
    "disp_dt = plot_confusion_matrix(tree_model, X_test, y_test, display_labels=['Attrited Customer', 'Existing Customer'], cmap=plt.cm.Blues)\n",
    "disp_dt.ax_.set_title(\"Decision Tree Confusion Matrix\")\n",
    "plt.show()"
   ]
  },
  {
   "cell_type": "markdown",
   "id": "9e0e261e",
   "metadata": {},
   "source": [
    "The logistic regression model shows a common error of not predicting any instances of attrition (false negatives), potentially due to an imbalance in the dataset. The decision tree model performs better but still makes some false predictions, indicating limitations in capturing complex relationships or overfitting."
   ]
  },
  {
   "cell_type": "markdown",
   "id": "9f76f3eb",
   "metadata": {},
   "source": [
    "### 2.4.2 Comparing the precision, recall, and accuracy of both models"
   ]
  },
  {
   "cell_type": "markdown",
   "id": "2ddd93b2",
   "metadata": {},
   "source": [
    "Precision represents the proportion of correctly predicted positive instances (attrited customers) out of the total instances predicted as positive. In logistic regression, the precision for the attrited customer class is 1.00, meaning all predicted attrited customers are correct. In the decision tree, the precision is 0.85, indicating some false positives.\n",
    "\n",
    "Recall (also called sensitivity or true positive rate) represents the proportion of correctly predicted positive instances out of the actual positive instances. In logistic regression, the recall for attrited customers is 0.00, meaning no attrited customers are correctly identified. In the decision tree, the recall is 0.78, indicating it identifies a significant portion of the attrited customers.\n",
    "\n",
    "Accuracy represents the overall proportion of correctly predicted instances (both positive and negative) out of the total instances. In logistic regression, the accuracy is 0.84, and in the decision tree, it is 0.94. The decision tree model performs better in terms of overall accuracy.\n",
    "\n",
    "Based on these metrics, we can conclude that the decision tree model performs better than logistic regression in terms of overall accuracy and recall for identifying attrited customers. However, both models have limitations, as logistic regression fails to identify any attrited customers, and the decision tree still makes some false positive predictions. Further analysis and improvements may be needed to enhance the models' performance."
   ]
  },
  {
   "cell_type": "markdown",
   "id": "2043ca67",
   "metadata": {},
   "source": [
    "### feature importance analysis of best performing model"
   ]
  },
  {
   "cell_type": "code",
   "execution_count": 45,
   "id": "78fc7cc7",
   "metadata": {},
   "outputs": [
    {
     "name": "stdout",
     "output_type": "stream",
     "text": [
      "Feature Importance:\n",
      "                           Feature    Importance\n",
      "0                       client_num  2.245095e-09\n",
      "11                 total_trans_amt  3.805722e-14\n",
      "7                     credit_limit  3.484964e-14\n",
      "9                  avg_open_to_buy  2.258061e-14\n",
      "8              total_revolving_bal  1.226903e-14\n",
      "12                  total_trans_ct  5.615111e-16\n",
      "1                     customer_age  1.268635e-16\n",
      "3                   months_on_book  9.906565e-17\n",
      "4         total_relationship_count  2.098207e-17\n",
      "2                  dependent_count  5.906913e-18\n",
      "13             total_ct_chng_q4_q1  4.962017e-18\n",
      "10            total_amt_chng_q4_q1  3.411863e-18\n",
      "14           avg_utilization_ratio  2.841132e-18\n",
      "15                        gender_M  2.370053e-18\n",
      "22          marital_status_Married  1.755402e-18\n",
      "17        education_level_Graduate  1.030725e-18\n",
      "23           marital_status_Single  8.998400e-19\n",
      "26     income_category_$60K - $80K  7.887322e-19\n",
      "25     income_category_$40K - $60K  7.645241e-19\n",
      "18     education_level_High School  7.611189e-19\n",
      "28  income_category_Less than $40K  5.976701e-19\n",
      "20      education_level_Uneducated  5.303870e-19\n",
      "27    income_category_$80K - $120K  5.251117e-19\n",
      "5           months_inactive_12_mon  5.085066e-19\n",
      "21         education_level_Unknown  3.063847e-19\n",
      "32            card_category_Silver  2.946977e-19\n",
      "24          marital_status_Unknown  1.821150e-19\n",
      "29         income_category_Unknown  1.086023e-19\n",
      "19   education_level_Post-Graduate  2.953318e-20\n",
      "30              card_category_Gold  2.048972e-20\n",
      "31          card_category_Platinum -3.036219e-20\n",
      "16       education_level_Doctorate -1.969135e-19\n",
      "6            contacts_count_12_mon -2.206207e-18\n"
     ]
    }
   ],
   "source": [
    "# Get the best-performing model\n",
    "best_model = logistic_grid.best_estimator_  # Assuming logistic regression performed better\n",
    "\n",
    "# Get the feature importances or coefficients\n",
    "if isinstance(best_model, LogisticRegression):\n",
    "    feature_importance = best_model.coef_[0]\n",
    "else:\n",
    "    feature_importance = best_model.feature_importances_\n",
    "\n",
    "# Create a dataframe of feature importance\n",
    "importance_df = pd.DataFrame({\"Feature\": X.columns, \"Importance\": feature_importance})\n",
    "importance_df = importance_df.sort_values(by=\"Importance\", ascending=False)\n",
    "\n",
    "print(\"Feature Importance:\")\n",
    "print(importance_df)"
   ]
  },
  {
   "cell_type": "markdown",
   "id": "6800c832",
   "metadata": {},
   "source": [
    "The feature importance analysis reveals the top 10 most important features for the best-performing model (assumed to be logistic regression). The \"client_num\" feature appears to have the highest importance, followed by \"total_trans_amt,\" \"credit_limit,\" \"avg_open_to_buy,\" and others. The importance values for these features indicate their relative contribution to the model's predictions."
   ]
  },
  {
   "cell_type": "markdown",
   "id": "3c761434",
   "metadata": {},
   "source": [
    "### 2.4.3 Aggregating the data by customer income category and evaluating your models for each group"
   ]
  },
  {
   "cell_type": "code",
   "execution_count": 46,
   "id": "406bfc47",
   "metadata": {},
   "outputs": [
    {
     "name": "stdout",
     "output_type": "stream",
     "text": [
      "Income Category: $60K - $80K\n",
      "Accuracy: 0.8540925266903915\n",
      "-----------------------------------\n",
      "Income Category: Less than $40K\n",
      "Accuracy: 0.8387096774193549\n",
      "-----------------------------------\n",
      "Income Category: $80K - $120K\n",
      "Accuracy: 0.8175895765472313\n",
      "-----------------------------------\n",
      "Income Category: $40K - $60K\n",
      "Accuracy: 0.8659217877094972\n",
      "-----------------------------------\n",
      "Income Category: $120K +\n",
      "Accuracy: 0.815068493150685\n",
      "-----------------------------------\n",
      "Income Category: Unknown\n",
      "Accuracy: 0.8161434977578476\n",
      "-----------------------------------\n"
     ]
    }
   ],
   "source": [
    "from sklearn.metrics import accuracy_score\n",
    "from sklearn.preprocessing import OneHotEncoder\n",
    "\n",
    "# Load the dataset\n",
    "df = pd.read_csv(\"datasets/customer_churn.csv\")\n",
    "\n",
    "# Preprocess the data\n",
    "# Handle missing values\n",
    "df.fillna(value={'education_level': 'Unknown'}, inplace=True)\n",
    "\n",
    "# Encode categorical variables\n",
    "categorical_cols = ['gender', 'education_level', 'marital_status', 'card_category']\n",
    "df_encoded = pd.get_dummies(df, columns=categorical_cols)\n",
    "\n",
    "# Scale numerical features if needed\n",
    "\n",
    "# Create separate datasets for each income category\n",
    "income_categories = df_encoded['income_category'].unique()\n",
    "\n",
    "for category in income_categories:\n",
    "    # Select data for the current income category\n",
    "    category_data = df_encoded[df_encoded['income_category'] == category]\n",
    "\n",
    "    # Split the data into training and testing sets\n",
    "    X = category_data.drop(['attrition_flag', 'income_category'], axis=1)\n",
    "    y = category_data['attrition_flag']\n",
    "    X_train, X_test, y_train, y_test = train_test_split(X, y, test_size=0.2, random_state=42)\n",
    "\n",
    "    # Build a machine learning model\n",
    "    model = LogisticRegression()\n",
    "    model.fit(X_train, y_train)\n",
    "\n",
    "    # Evaluate the model\n",
    "    y_pred = model.predict(X_test)\n",
    "    accuracy = accuracy_score(y_test, y_pred)\n",
    "\n",
    "    # Print the results for the current income category\n",
    "    print(\"Income Category:\", category)\n",
    "    print(\"Accuracy:\", accuracy)\n",
    "    print(\"-----------------------------------\")\n"
   ]
  },
  {
   "cell_type": "markdown",
   "id": "aa9fb77b",
   "metadata": {},
   "source": [
    "Based on the provided accuracy scores for each income category, it appears that the models do not perform systematically worse for a specific income category.\n",
    "\n",
    "The most significant result can be observed in the \"Income Category: $40K - $60K\" group, where the model achieved the highest accuracy score of 0.8659. However, it's important to note that the differences in accuracy among the income categories are relatively small.\n",
    "\n",
    "The other income categories also have relatively high accuracy scores, ranging from 0.8151 to 0.8541, indicating that the models perform reasonably well across different income groups.\n",
    "\n",
    "Overall, the models show consistent performance across the income categories, with no clear indication of systematic underperformance for any specific income category."
   ]
  },
  {
   "cell_type": "code",
   "execution_count": null,
   "id": "823c9cfa",
   "metadata": {},
   "outputs": [],
   "source": []
  }
 ],
 "metadata": {
  "kernelspec": {
   "display_name": "Python 3 (ipykernel)",
   "language": "python",
   "name": "python3"
  },
  "language_info": {
   "codemirror_mode": {
    "name": "ipython",
    "version": 3
   },
   "file_extension": ".py",
   "mimetype": "text/x-python",
   "name": "python",
   "nbconvert_exporter": "python",
   "pygments_lexer": "ipython3",
   "version": "3.10.7"
  }
 },
 "nbformat": 4,
 "nbformat_minor": 5
}
